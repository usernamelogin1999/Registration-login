{
 "cells": [
  {
   "cell_type": "code",
   "execution_count": 4,
   "id": "7515a948-e23b-41a1-9a89-0545f649f5ec",
   "metadata": {
    "tags": []
   },
   "outputs": [
    {
     "name": "stdin",
     "output_type": "stream",
     "text": [
      "Enter ID:  3\n",
      "Enter First Name:  basava\n",
      "Enter Last Name:  raju\n",
      "Enter Mobile Number:  9381432773\n",
      "Enter Email Address:  basava@gmail.com\n",
      "Enter Username:  basavaraju\n",
      "Enter Password:  raju123\n"
     ]
    },
    {
     "name": "stdout",
     "output_type": "stream",
     "text": [
      "Row inserted successfully!\n"
     ]
    }
   ],
   "source": [
    "import mysql.connector\n",
    "\n",
    "def connect_to_database():\n",
    "    try:\n",
    "        mydb = mysql.connector.connect(\n",
    "            host=\"localhost\",\n",
    "            user=\"root\",\n",
    "            passwd=\"Pranavi1624\",\n",
    "            database=\"registrationdb\",\n",
    "            auth_plugin='mysql_native_password'\n",
    "        )\n",
    "        return mydb\n",
    "    except mysql.connector.Error as error:\n",
    "        print(\"Error connecting to MySQL:\", error)\n",
    "        return None\n",
    "\n",
    "def insert_row(mydb,mycursor, ID, First_Name, Last_Name, Mobile_Number, Email_Address, Username, Password):\n",
    "    \n",
    "    try:\n",
    "        mycursor.execute(\"INSERT INTO registrationtable (id, first_name, last_name,mobile_number,email_address, username, password) VALUES (%s, %s, %s, %s, %s,%s, %s)\",\n",
    "                       (ID, First_Name, Last_Name, Mobile_Number, Email_Address, Username, Password))\n",
    "        mydb.commit()\n",
    "        print(\"Row inserted successfully!\")\n",
    "    except mysql.connector.Error as error:\n",
    "        print(\"Error inserting row:\", error)\n",
    "\n",
    "def main():\n",
    "    # Connect to the database\n",
    "    mydb = connect_to_database()\n",
    "    if not mydb:\n",
    "        return\n",
    "\n",
    "    # Create a cursor object\n",
    "    mycursor = mydb.cursor()\n",
    "\n",
    "    # Prompt the user for row details\n",
    "    ID = int(input(\"Enter ID: \"))\n",
    "    First_Name =input(\"Enter First Name: \")\n",
    "    Last_Name = input(\"Enter Last Name: \")\n",
    "    Mobile_Number = input(\"Enter Mobile Number: \")\n",
    "    Email_Address = input(\"Enter Email Address: \")\n",
    "    Username = input(\"Enter Username: \")\n",
    "    Password = input(\"Enter Password: \")\n",
    "\n",
    "    # Insert the row into the table\n",
    "    insert_row(mydb,mycursor,ID,First_Name,Last_Name,Mobile_Number,Email_Address,Username,Password)\n",
    "\n",
    "    # Close cursor and database connection\n",
    "    mycursor.close()\n",
    "    mydb.close()\n",
    "\n",
    "if __name__ == \"__main__\":\n",
    "    main()"
   ]
  },
  {
   "cell_type": "code",
   "execution_count": null,
   "id": "c962ce37-9140-4868-9521-683e78c1d651",
   "metadata": {},
   "outputs": [],
   "source": []
  }
 ],
 "metadata": {
  "kernelspec": {
   "display_name": "Python 3 (ipykernel)",
   "language": "python",
   "name": "python3"
  },
  "language_info": {
   "codemirror_mode": {
    "name": "ipython",
    "version": 3
   },
   "file_extension": ".py",
   "mimetype": "text/x-python",
   "name": "python",
   "nbconvert_exporter": "python",
   "pygments_lexer": "ipython3",
   "version": "3.11.5"
  }
 },
 "nbformat": 4,
 "nbformat_minor": 5
}
